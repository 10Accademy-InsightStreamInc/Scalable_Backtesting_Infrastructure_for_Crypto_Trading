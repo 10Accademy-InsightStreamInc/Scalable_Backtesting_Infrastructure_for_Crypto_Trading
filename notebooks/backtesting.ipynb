{
 "cells": [
  {
   "cell_type": "code",
   "execution_count": null,
   "metadata": {},
   "outputs": [],
   "source": [
    "import datetime\n",
    "# import pandas_ta as ta\n",
    "import pandas as pd\n",
    "\n",
    "from backtesting import Backtest\n",
    "from backtesting import Strategy\n",
    "from backtesting.lib import crossover\n",
    "from backtesting.test import GOOG"
   ]
  },
  {
   "cell_type": "code",
   "execution_count": null,
   "metadata": {},
   "outputs": [],
   "source": [
    "import datetime\n",
    "import pandas_ta as ta\n",
    "import pandas as pd\n",
    "\n",
    "from backtesting import Backtest\n",
    "from backtesting import Strategy\n",
    "from backtesting.lib import crossover\n",
    "from backtesting.test import GOOG\n",
    "\n",
    "class RsiOscillator(Strategy):\n",
    "\n",
    "    upper_bound = 70\n",
    "    lower_bound = 30\n",
    "    rsi_window = 14\n",
    "\n",
    "    # Do as much initial computation as possible\n",
    "    def init(self):\n",
    "        self.rsi = self.I(ta.rsi, pd.Series(self.data.Close), self.rsi_window)\n",
    "\n",
    "    # Step through bars one by one\n",
    "    # Note that multiple buys are a thing here\n",
    "    def next(self):\n",
    "        if crossover(self.rsi, self.upper_bound):\n",
    "            self.position.close()\n",
    "        elif crossover(self.lower_bound, self.rsi):\n",
    "            self.buy()\n",
    "\n",
    "bt = Backtest(GOOG, RsiOscillator, cash=10_000, commission=.002)\n",
    "stats = bt.run()\n",
    "bt.plot()\n"
   ]
  },
  {
   "cell_type": "code",
   "execution_count": null,
   "metadata": {},
   "outputs": [],
   "source": [
    "print(GOOG)"
   ]
  },
  {
   "cell_type": "code",
   "execution_count": null,
   "metadata": {},
   "outputs": [],
   "source": [
    "import pandas as pd\n",
    "\n",
    "# Load the data from the uploaded CSV file\n",
    "file_path = '../data/binance_btc_usdt_candlestick.csv'\n",
    "data = pd.read_csv(file_path)\n",
    "\n",
    "# Display the first few rows of the dataset\n",
    "data.head()\n"
   ]
  },
  {
   "cell_type": "code",
   "execution_count": null,
   "metadata": {},
   "outputs": [],
   "source": [
    "data.describe()"
   ]
  },
  {
   "cell_type": "code",
   "execution_count": null,
   "metadata": {},
   "outputs": [],
   "source": [
    "import matplotlib.pyplot as plt\n",
    "\n",
    "plt.figure(figsize=(14, 7))\n",
    "plt.plot(data['timestamp'], data['close'], label='Closing Price', color='blue')\n",
    "plt.title('BTC/USDT Closing Prices Over Time')\n",
    "plt.xlabel('Timestamp')\n",
    "#make the timestamp writing diagonal\n",
    "plt.xticks(rotation=45)\n",
    "plt.ylabel('Price')\n",
    "plt.legend()\n",
    "plt.grid(True)\n",
    "plt.show()\n"
   ]
  },
  {
   "cell_type": "code",
   "execution_count": null,
   "metadata": {},
   "outputs": [],
   "source": [
    "plt.figure(figsize=(14, 7))\n",
    "plt.plot(data['timestamp'], data['volume'], label='Trading Volume', color='orange')\n",
    "plt.title('BTC/USDT Trading Volume Over Time')\n",
    "plt.xlabel('Timestamp')\n",
    "plt.ylabel('Volume')\n",
    "plt.xticks(rotation=45)\n",
    "plt.legend()\n",
    "plt.grid(True)\n",
    "plt.show()\n"
   ]
  },
  {
   "cell_type": "code",
   "execution_count": null,
   "metadata": {},
   "outputs": [],
   "source": [
    "data['20_day_MA'] = data['close'].rolling(window=20).mean()\n",
    "data['50_day_MA'] = data['close'].rolling(window=50).mean()\n",
    "data['15_day_MA'] = data['close'].rolling(window=15).mean()"
   ]
  },
  {
   "cell_type": "code",
   "execution_count": null,
   "metadata": {},
   "outputs": [],
   "source": [
    "# Plot Moving Averages\n",
    "plt.figure(figsize=(14, 7))\n",
    "plt.plot(data['timestamp'], data['close'], label='Closing Price', color='blue')\n",
    "plt.plot(data['timestamp'], data['20_day_MA'], label='20-Day MA', color='orange')\n",
    "plt.plot(data['timestamp'], data['50_day_MA'], label='50-Day MA', color='green')\n",
    "plt.plot(data['timestamp'], data['15_day_MA'], label='15-Day MA', color='red')\n",
    "plt.title('BTC/USDT Moving Averages')\n",
    "plt.xlabel('Timestamp')\n",
    "plt.xticks(rotation=45)\n",
    "plt.ylabel('Price')\n",
    "plt.legend()\n",
    "plt.grid(True)\n",
    "plt.show()\n"
   ]
  },
  {
   "cell_type": "code",
   "execution_count": null,
   "metadata": {},
   "outputs": [],
   "source": [
    "data['Buy_Signal'] = (data['20_day_MA'] > data['15_day_MA']) & (data['20_day_MA'].shift(1) <= data['15_day_MA'].shift(1))\n",
    "data['Sell_Signal'] = (data['20_day_MA'] < data['15_day_MA']) & (data['20_day_MA'].shift(1) >= data['15_day_MA'].shift(1))\n",
    "\n",
    "# Plot Buy/Sell Signals\n",
    "plt.figure(figsize=(14, 7))\n",
    "plt.plot(data['timestamp'], data['close'], label='Closing Price', color='blue')\n",
    "plt.plot(data['timestamp'], data['20_day_MA'], label='20-Day MA', color='orange')\n",
    "plt.plot(data['timestamp'], data['50_day_MA'], label='50-Day MA', color='green')\n",
    "plt.scatter(data.loc[data['Buy_Signal'], 'timestamp'], data.loc[data['Buy_Signal'], 'close'], label='Buy Signal', marker='^', color='green', s=100)\n",
    "plt.scatter(data.loc[data['Sell_Signal'], 'timestamp'], data.loc[data['Sell_Signal'], 'close'], label='Sell Signal', marker='v', color='red', s=100)\n",
    "plt.title('BTC/USDT Buy and Sell Signals')\n",
    "plt.xlabel('Timestamp')\n",
    "plt.ylabel('Price')\n",
    "plt.xticks(rotation=45)\n",
    "plt.legend()\n",
    "plt.grid(True)\n",
    "plt.show()\n"
   ]
  },
  {
   "cell_type": "code",
   "execution_count": null,
   "metadata": {},
   "outputs": [],
   "source": [
    "data.loc[data['Buy_Signal']]"
   ]
  },
  {
   "cell_type": "code",
   "execution_count": null,
   "metadata": {},
   "outputs": [],
   "source": [
    "data.loc[data['Sell_Signal']]"
   ]
  },
  {
   "cell_type": "code",
   "execution_count": null,
   "metadata": {},
   "outputs": [],
   "source": [
    "# Separate the rows with date strings and millisecond timestamps\n",
    "date_format_rows = data[~data['timestamp'].str.isnumeric()]\n",
    "ms_format_rows = data[data['timestamp'].str.isnumeric()]\n",
    "\n",
    "# Convert date strings to datetime\n",
    "date_format_rows['timestamp'] = pd.to_datetime(date_format_rows['timestamp'])\n",
    "\n",
    "# Convert millisecond timestamps to datetime\n",
    "ms_format_rows['timestamp'] = pd.to_datetime(ms_format_rows['timestamp'].astype('int64'), unit='ms')\n",
    "\n",
    "# Combine the two datasets\n",
    "cleaned_data = pd.concat([date_format_rows, ms_format_rows])\n",
    "\n",
    "# Sort the data by timestamp\n",
    "cleaned_data = cleaned_data.sort_values(by='timestamp')\n",
    "\n",
    "# Calculate 20-day and 50-day moving averages\n",
    "cleaned_data['20_day_MA'] = cleaned_data['close'].rolling(window=20).mean()\n",
    "cleaned_data['50_day_MA'] = cleaned_data['close'].rolling(window=50).mean()\n",
    "\n",
    "# Identify buy and sell signals\n",
    "cleaned_data['Buy_Signal'] = (cleaned_data['20_day_MA'] > cleaned_data['50_day_MA']) & (cleaned_data['20_day_MA'].shift(1) <= cleaned_data['50_day_MA'].shift(1))\n",
    "cleaned_data['Sell_Signal'] = (cleaned_data['20_day_MA'] < cleaned_data['50_day_MA']) & (cleaned_data['20_day_MA'].shift(1) >= cleaned_data['50_day_MA'].shift(1))\n",
    "\n",
    "# Plot Closing Prices and Moving Averages with Buy/Sell Signals\n",
    "plt.figure(figsize=(14, 7))\n",
    "plt.plot(cleaned_data['timestamp'], cleaned_data['close'], label='Closing Price', color='blue')\n",
    "plt.plot(cleaned_data['timestamp'], cleaned_data['20_day_MA'], label='20-Day MA', color='orange')\n",
    "plt.plot(cleaned_data['timestamp'], cleaned_data['50_day_MA'], label='50-Day MA', color='green')\n",
    "plt.scatter(cleaned_data.loc[cleaned_data['Buy_Signal'], 'timestamp'], cleaned_data.loc[cleaned_data['Buy_Signal'], 'close'], label='Buy Signal', marker='^', color='green', s=100)\n",
    "plt.scatter(cleaned_data.loc[cleaned_data['Sell_Signal'], 'timestamp'], cleaned_data.loc[cleaned_data['Sell_Signal'], 'close'], label='Sell Signal', marker='v', color='red', s=100)\n",
    "plt.title('BTC/USDT Closing Prices and Moving Averages with Buy/Sell Signals')\n",
    "plt.xlabel('Timestamp')\n",
    "plt.ylabel('Price')\n",
    "plt.legend()\n",
    "plt.grid(True)\n",
    "plt.show()\n",
    "\n",
    "# Plot Trading Volume\n",
    "plt.figure(figsize=(14, 7))\n",
    "plt.plot(cleaned_data['timestamp'], cleaned_data['volume'], label='Trading Volume', color='orange')\n",
    "plt.title('BTC/USDT Trading Volume Over Time')\n",
    "plt.xlabel('Timestamp')\n",
    "plt.ylabel('Volume')\n",
    "plt.legend()\n",
    "plt.grid(True)\n",
    "plt.show()\n",
    "# Display summary statistics\n",
    "summary_stats = cleaned_data.describe()\n",
    "summary_stats"
   ]
  },
  {
   "cell_type": "code",
   "execution_count": null,
   "metadata": {},
   "outputs": [],
   "source": [
    "# Initialize variables\n",
    "position = None\n",
    "buy_date = None\n",
    "buy_price = None\n",
    "\n",
    "# Iterate through the data to track buy and sell actions\n",
    "for index, row in cleaned_data.iterrows():\n",
    "    if row['Buy_Signal'] and position is None:\n",
    "        # Buy action\n",
    "        position = 'Bought'\n",
    "        buy_date = row['timestamp']\n",
    "        buy_price = row['close']\n",
    "    elif row['Sell_Signal'] and position == 'Bought':\n",
    "        # Sell action\n",
    "        position = None\n",
    "        sell_date = row['timestamp']\n",
    "        sell_price = row['close']\n",
    "        profit = sell_price - buy_price\n",
    "        trades = trades.append({'Buy Date': buy_date, 'Buy Price': buy_price, 'Sell Date': sell_date, 'Sell Price': sell_price, 'Profit': profit}, ignore_index=True)\n",
    "\n",
    "# Calculate total profit\n",
    "total_profit = trades['Profit'].sum()\n",
    "total_profit"
   ]
  },
  {
   "cell_type": "code",
   "execution_count": null,
   "metadata": {},
   "outputs": [],
   "source": [
    "# Create a DataFrame to keep track of buy and sell actions\n",
    "trades = pd.DataFrame(columns=['Buy Date', 'Buy Price', 'Sell Date', 'Sell Price', 'Profit'])\n",
    "\n",
    "# Initialize variables\n",
    "position = None\n",
    "buy_date = None\n",
    "buy_price = None\n",
    "\n",
    "# List to collect trade data\n",
    "trade_data = []\n",
    "\n",
    "# Iterate through the data to track buy and sell actions\n",
    "for index, row in cleaned_data.iterrows():\n",
    "    if row['Buy_Signal'] and position is None:\n",
    "        # Buy action\n",
    "        position = 'Bought'\n",
    "        buy_date = row['timestamp']\n",
    "        buy_price = row['close']\n",
    "    elif row['Sell_Signal'] and position == 'Bought':\n",
    "        # Sell action\n",
    "        position = None\n",
    "        sell_date = row['timestamp']\n",
    "        sell_price = row['close']\n",
    "        profit = sell_price - buy_price\n",
    "        trade_data.append({'Buy Date': buy_date, 'Buy Price': buy_price, 'Sell Date': sell_date, 'Sell Price': sell_price, 'Profit': profit})\n",
    "\n",
    "# Convert the list of trade data to a DataFrame\n",
    "trades = pd.DataFrame(trade_data)\n",
    "\n",
    "# Calculate total profit\n",
    "total_profit = trades['Profit'].sum()\n",
    "total_profit\n"
   ]
  },
  {
   "cell_type": "code",
   "execution_count": null,
   "metadata": {},
   "outputs": [],
   "source": [
    "trades"
   ]
  },
  {
   "cell_type": "code",
   "execution_count": 1,
   "metadata": {},
   "outputs": [],
   "source": [
    "from sqlalchemy import create_engine, Table, MetaData\n",
    "import os\n",
    "\n",
    "# Create engine and connect to the database\n",
    "engine = create_engine(os.getenv('PYCOPG_DATABASE_URL'))"
   ]
  },
  {
   "cell_type": "code",
   "execution_count": 2,
   "metadata": {},
   "outputs": [],
   "source": [
    "connection = engine.connect()\n",
    "metadata = MetaData()"
   ]
  },
  {
   "cell_type": "code",
   "execution_count": 5,
   "metadata": {},
   "outputs": [],
   "source": [
    "# Reflect the 'scenes' table\n",
    "scenes = Table('scenes', metadata, autoload_with=engine)\n",
    "\n",
    "# Build the query\n",
    "query = scenes.select().limit(10).offset(0)\n",
    "\n",
    "# Execute the query\n",
    "result = connection.execute(query)\n",
    "for row in result:\n",
    "    print(row)"
   ]
  },
  {
   "cell_type": "code",
   "execution_count": 3,
   "metadata": {},
   "outputs": [],
   "source": [
    "from sqlalchemy import create_engine, text, inspect\n",
    "from sqlalchemy.orm import sessionmaker\n",
    "\n",
    "# Create an engine and connect to the database\n",
    "Session = sessionmaker(bind=engine)\n",
    "session = Session()\n",
    "# Close the session\n",
    "session.close()"
   ]
  },
  {
   "cell_type": "code",
   "execution_count": 7,
   "metadata": {},
   "outputs": [],
   "source": [
    "\n",
    "# Execute the DROP TABLE command with CASCADE\n",
    "# drop all ['stocks', 'scenes', 'indicators', 'backtest_results', 'users']\n",
    "session.execute(text(\"DROP TABLE backtest_results CASCADE\"))\n",
    "# session.execute(text(\"DROP TABLE stocks CASCADE\"))\n",
    "# session.execute(text(\"DROP TABLE indicators CASCADE\"))\n",
    "# session.execute(text(\"DROP TABLE scenes CASCADE\"))\n",
    "# session.execute(text(\"DROP TABLE users CASCADE\"))\n",
    "session.commit()\n",
    "\n",
    "# Close the session\n",
    "session.close()"
   ]
  },
  {
   "cell_type": "code",
   "execution_count": 8,
   "metadata": {},
   "outputs": [
    {
     "name": "stdout",
     "output_type": "stream",
     "text": [
      "[]\n"
     ]
    }
   ],
   "source": [
    "# Create an inspector object\n",
    "inspector = inspect(engine)\n",
    "\n",
    "# Get the list of all tables\n",
    "tables = inspector.get_table_names()\n",
    "\n",
    "# Print the list of tables\n",
    "print(tables)"
   ]
  },
  {
   "cell_type": "code",
   "execution_count": 6,
   "metadata": {},
   "outputs": [],
   "source": [
    "# get datas in indicators table with a limit of 10\n",
    "\n",
    "# get datas in indicators table with a limit of 10\n",
    "query = text(\"SELECT * FROM scenes LIMIT 10\")\n",
    "\n",
    "# execute the query\n",
    "result = connection.execute(query)\n",
    "\n",
    "# print the results\n",
    "for row in result:\n",
    "    print(row)\n"
   ]
  },
  {
   "cell_type": "code",
   "execution_count": null,
   "metadata": {},
   "outputs": [],
   "source": [
    "import backtrader as bt\n",
    "import pandas as pd\n",
    "\n",
    "class SMAStrategy(bt.Strategy):\n",
    "    params = (\n",
    "        ('period', 15),\n",
    "    )\n",
    "\n",
    "    def __init__(self):\n",
    "        self.sma = bt.indicators.SimpleMovingAverage(self.data.close, period=self.params.period)\n",
    "        self.order = None\n",
    "        self.buyprice = None\n",
    "        self.buycomm = None\n",
    "        self.trade_count = 0\n",
    "        self.winning_trades = 0\n",
    "        self.losing_trades = 0\n",
    "        self.max_drawdown = 0\n",
    "\n",
    "    def next(self):\n",
    "        if self.order:\n",
    "            return\n",
    "\n",
    "        if self.sma > self.data.close:\n",
    "            self.order = self.buy()\n",
    "        elif self.sma < self.data.close:\n",
    "            self.order = self.sell()\n",
    "\n",
    "    def notify_order(self, order):\n",
    "        if order.status in [order.Submitted, order.Accepted]:\n",
    "            return\n",
    "\n",
    "        if order.status in [order.Completed]:\n",
    "            if order.isbuy():\n",
    "                self.buyprice = order.executed.price\n",
    "                self.buycomm = order.executed.comm\n",
    "            else:\n",
    "                self.sellprice = order.executed.price\n",
    "                self.sellcomm = order.executed.comm\n",
    "\n",
    "            self.bar_executed = len(self)\n",
    "\n",
    "        self.order = None\n",
    "\n",
    "    def notify_trade(self, trade):\n",
    "        if not trade.isclosed:\n",
    "            return\n",
    "\n",
    "        print(f'Operation Profit, Gross {trade.pnl}, Net {trade.pnlcomm}')\n",
    "        self.trade_count += 1\n",
    "        if trade.pnl > 0:\n",
    "            self.winning_trades += 1\n",
    "        else:\n",
    "            self.losing_trades += 1\n",
    "\n",
    "        self.max_drawdown = max(self.max_drawdown, self.broker.get_value() - self.data.close[0])\n",
    "        sharpe_ratio = self.broker.get_value() / self.broker.get_cash()\n",
    "\n",
    "        self.cerebro.metrics.append({\n",
    "            'Period': self.params.period,\n",
    "            'Gross Profit': trade.pnl,\n",
    "            'Net Profit': trade.pnlcomm,\n",
    "            'Number of Trades': self.trade_count,\n",
    "            'Winning Trades': self.winning_trades,\n",
    "            'Losing Trades': self.losing_trades,\n",
    "            'Max Drawdown': self.max_drawdown,\n",
    "            'Sharpe Ratio': sharpe_ratio\n",
    "        })\n"
   ]
  },
  {
   "cell_type": "code",
   "execution_count": 11,
   "metadata": {},
   "outputs": [],
   "source": [
    "df = pd.read_csv('../data/binance_btc_usdt_candlestick.csv', index_col='timestamp', parse_dates=True)"
   ]
  },
  {
   "cell_type": "code",
   "execution_count": null,
   "metadata": {},
   "outputs": [],
   "source": [
    "def run_backtest(scene, df):\n",
    "    cerebro = bt.Cerebro()\n",
    "    data = bt.feeds.PandasData(dataname=df)\n",
    "    cerebro.adddata(data)\n",
    "\n",
    "    if scene['indicator_name'] == 'SMA':\n",
    "        cerebro.addstrategy(SMAStrategy, period=scene['period'])\n",
    "    # Add more strategies as needed\n",
    "\n",
    "    cerebro.metrics = []\n",
    "    cerebro.run()\n",
    "\n",
    "    return cerebro.metrics"
   ]
  },
  {
   "cell_type": "code",
   "execution_count": null,
   "metadata": {},
   "outputs": [],
   "source": [
    "run_backtest({\"indicator_name\": \"SMA\", \"period\": 20}, df)"
   ]
  },
  {
   "cell_type": "code",
   "execution_count": 13,
   "metadata": {},
   "outputs": [],
   "source": [
    "import backtrader as bt\n",
    "import pandas as pd\n",
    "\n",
    "class SMAStrategy(bt.Strategy):\n",
    "    params = (\n",
    "        ('period', 15),\n",
    "    )\n",
    "\n",
    "    def __init__(self):\n",
    "        self.sma = bt.indicators.SMA(self.data.close, period=self.params.period)\n",
    "        self.order = None\n",
    "        self.buyprice = None\n",
    "        self.buycomm = None\n",
    "        self.trade_metrics = []\n",
    "\n",
    "    def next(self):\n",
    "        if self.order:\n",
    "            return\n",
    "\n",
    "        if self.sma > self.data.close:\n",
    "            self.order = self.buy()\n",
    "        elif self.sma < self.data.close:\n",
    "            self.order = self.sell()\n",
    "\n",
    "    def notify_order(self, order):\n",
    "        if order.status in [order.Submitted, order.Accepted]:\n",
    "            return\n",
    "\n",
    "        if order.status in [order.Completed]:\n",
    "            if order.isbuy():\n",
    "                self.buyprice = order.executed.price\n",
    "                self.buycomm = order.executed.comm\n",
    "            else:\n",
    "                self.sellprice = order.executed.price\n",
    "                self.sellcomm = order.executed.comm\n",
    "\n",
    "            self.bar_executed = len(self)\n",
    "\n",
    "        self.order = None\n",
    "\n",
    "    def notify_trade(self, trade):\n",
    "        if not trade.isclosed:\n",
    "            return\n",
    "\n",
    "        self.trade_metrics.append({\n",
    "            'Period': self.params.period,\n",
    "            'Gross Profit': trade.pnl,\n",
    "            'Net Profit': trade.pnlcomm,\n",
    "            'Number of Trades': len(self),\n",
    "            'Winning Trades': len([t for t in self._trades if t.pnl > 0]),\n",
    "            'Losing Trades': len([t for t in self._trades if t.pnl <= 0]),\n",
    "            'Max Drawdown': self.broker.get_value() - self.broker.get_cash(),\n",
    "            'Sharpe Ratio': self.calculate_sharpe_ratio()\n",
    "        })\n",
    "\n",
    "    def calculate_sharpe_ratio(self):\n",
    "        # Placeholder for Sharpe Ratio calculation logic\n",
    "        return 0  # Implement the actual calculation here\n",
    "\n",
    "def run_backtest(scene, df):\n",
    "    cerebro = bt.Cerebro()\n",
    "    data = bt.feeds.PandasData(dataname=df)\n",
    "    cerebro.adddata(data)\n",
    "\n",
    "    if scene['indicator_name'] == 'SMA':\n",
    "        cerebro.addstrategy(SMAStrategy, period=scene['period'])\n",
    "    # Add more strategies as needed\n",
    "\n",
    "    strategy = cerebro.run()[0]  # Get the first (and only) strategy instance\n",
    "    return strategy.trade_metrics\n",
    "\n"
   ]
  },
  {
   "cell_type": "code",
   "execution_count": 14,
   "metadata": {},
   "outputs": [
    {
     "ename": "AttributeError",
     "evalue": "'Lines_LineSeries_DataSeries_OHLC_OHLCDateTime_Abst' object has no attribute 'pnl'",
     "output_type": "error",
     "traceback": [
      "\u001b[0;31m---------------------------------------------------------------------------\u001b[0m",
      "\u001b[0;31mAttributeError\u001b[0m                            Traceback (most recent call last)",
      "Cell \u001b[0;32mIn[14], line 1\u001b[0m\n\u001b[0;32m----> 1\u001b[0m metrics \u001b[38;5;241m=\u001b[39m \u001b[43mrun_backtest\u001b[49m\u001b[43m(\u001b[49m\u001b[43m{\u001b[49m\u001b[38;5;124;43m\"\u001b[39;49m\u001b[38;5;124;43mindicator_name\u001b[39;49m\u001b[38;5;124;43m\"\u001b[39;49m\u001b[43m:\u001b[49m\u001b[43m \u001b[49m\u001b[38;5;124;43m\"\u001b[39;49m\u001b[38;5;124;43mSMA\u001b[39;49m\u001b[38;5;124;43m\"\u001b[39;49m\u001b[43m,\u001b[49m\u001b[43m \u001b[49m\u001b[38;5;124;43m\"\u001b[39;49m\u001b[38;5;124;43mperiod\u001b[39;49m\u001b[38;5;124;43m\"\u001b[39;49m\u001b[43m:\u001b[49m\u001b[43m \u001b[49m\u001b[38;5;241;43m20\u001b[39;49m\u001b[43m}\u001b[49m\u001b[43m,\u001b[49m\u001b[43m \u001b[49m\u001b[43mdf\u001b[49m\u001b[43m)\u001b[49m\n\u001b[1;32m      2\u001b[0m \u001b[38;5;28mprint\u001b[39m(metrics)\n",
      "Cell \u001b[0;32mIn[13], line 69\u001b[0m, in \u001b[0;36mrun_backtest\u001b[0;34m(scene, df)\u001b[0m\n\u001b[1;32m     66\u001b[0m     cerebro\u001b[38;5;241m.\u001b[39maddstrategy(SMAStrategy, period\u001b[38;5;241m=\u001b[39mscene[\u001b[38;5;124m'\u001b[39m\u001b[38;5;124mperiod\u001b[39m\u001b[38;5;124m'\u001b[39m])\n\u001b[1;32m     67\u001b[0m \u001b[38;5;66;03m# Add more strategies as needed\u001b[39;00m\n\u001b[0;32m---> 69\u001b[0m strategy \u001b[38;5;241m=\u001b[39m \u001b[43mcerebro\u001b[49m\u001b[38;5;241;43m.\u001b[39;49m\u001b[43mrun\u001b[49m\u001b[43m(\u001b[49m\u001b[43m)\u001b[49m[\u001b[38;5;241m0\u001b[39m]  \u001b[38;5;66;03m# Get the first (and only) strategy instance\u001b[39;00m\n\u001b[1;32m     70\u001b[0m \u001b[38;5;28;01mreturn\u001b[39;00m strategy\u001b[38;5;241m.\u001b[39mtrade_metrics\n",
      "File \u001b[0;32m~/Scalable_Backtesting_Infrastructure_for_Crypto_Trading/backtest/lib/python3.8/site-packages/backtrader/cerebro.py:1132\u001b[0m, in \u001b[0;36mCerebro.run\u001b[0;34m(self, **kwargs)\u001b[0m\n\u001b[1;32m   1128\u001b[0m \u001b[38;5;28;01mif\u001b[39;00m \u001b[38;5;129;01mnot\u001b[39;00m \u001b[38;5;28mself\u001b[39m\u001b[38;5;241m.\u001b[39m_dooptimize \u001b[38;5;129;01mor\u001b[39;00m \u001b[38;5;28mself\u001b[39m\u001b[38;5;241m.\u001b[39mp\u001b[38;5;241m.\u001b[39mmaxcpus \u001b[38;5;241m==\u001b[39m \u001b[38;5;241m1\u001b[39m:\n\u001b[1;32m   1129\u001b[0m     \u001b[38;5;66;03m# If no optimmization is wished ... or 1 core is to be used\u001b[39;00m\n\u001b[1;32m   1130\u001b[0m     \u001b[38;5;66;03m# let's skip process \"spawning\"\u001b[39;00m\n\u001b[1;32m   1131\u001b[0m     \u001b[38;5;28;01mfor\u001b[39;00m iterstrat \u001b[38;5;129;01min\u001b[39;00m iterstrats:\n\u001b[0;32m-> 1132\u001b[0m         runstrat \u001b[38;5;241m=\u001b[39m \u001b[38;5;28;43mself\u001b[39;49m\u001b[38;5;241;43m.\u001b[39;49m\u001b[43mrunstrategies\u001b[49m\u001b[43m(\u001b[49m\u001b[43miterstrat\u001b[49m\u001b[43m)\u001b[49m\n\u001b[1;32m   1133\u001b[0m         \u001b[38;5;28mself\u001b[39m\u001b[38;5;241m.\u001b[39mrunstrats\u001b[38;5;241m.\u001b[39mappend(runstrat)\n\u001b[1;32m   1134\u001b[0m         \u001b[38;5;28;01mif\u001b[39;00m \u001b[38;5;28mself\u001b[39m\u001b[38;5;241m.\u001b[39m_dooptimize:\n",
      "File \u001b[0;32m~/Scalable_Backtesting_Infrastructure_for_Crypto_Trading/backtest/lib/python3.8/site-packages/backtrader/cerebro.py:1298\u001b[0m, in \u001b[0;36mCerebro.runstrategies\u001b[0;34m(self, iterstrat, predata)\u001b[0m\n\u001b[1;32m   1296\u001b[0m         \u001b[38;5;28mself\u001b[39m\u001b[38;5;241m.\u001b[39m_runonce_old(runstrats)\n\u001b[1;32m   1297\u001b[0m     \u001b[38;5;28;01melse\u001b[39;00m:\n\u001b[0;32m-> 1298\u001b[0m         \u001b[38;5;28;43mself\u001b[39;49m\u001b[38;5;241;43m.\u001b[39;49m\u001b[43m_runonce\u001b[49m\u001b[43m(\u001b[49m\u001b[43mrunstrats\u001b[49m\u001b[43m)\u001b[49m\n\u001b[1;32m   1299\u001b[0m \u001b[38;5;28;01melse\u001b[39;00m:\n\u001b[1;32m   1300\u001b[0m     \u001b[38;5;28;01mif\u001b[39;00m \u001b[38;5;28mself\u001b[39m\u001b[38;5;241m.\u001b[39mp\u001b[38;5;241m.\u001b[39moldsync:\n",
      "File \u001b[0;32m~/Scalable_Backtesting_Infrastructure_for_Crypto_Trading/backtest/lib/python3.8/site-packages/backtrader/cerebro.py:1700\u001b[0m, in \u001b[0;36mCerebro._runonce\u001b[0;34m(self, runstrats)\u001b[0m\n\u001b[1;32m   1697\u001b[0m \u001b[38;5;28mself\u001b[39m\u001b[38;5;241m.\u001b[39m_check_timers(runstrats, dt0, cheat\u001b[38;5;241m=\u001b[39m\u001b[38;5;28;01mFalse\u001b[39;00m)\n\u001b[1;32m   1699\u001b[0m \u001b[38;5;28;01mfor\u001b[39;00m strat \u001b[38;5;129;01min\u001b[39;00m runstrats:\n\u001b[0;32m-> 1700\u001b[0m     \u001b[43mstrat\u001b[49m\u001b[38;5;241;43m.\u001b[39;49m\u001b[43m_oncepost\u001b[49m\u001b[43m(\u001b[49m\u001b[43mdt0\u001b[49m\u001b[43m)\u001b[49m\n\u001b[1;32m   1701\u001b[0m     \u001b[38;5;28;01mif\u001b[39;00m \u001b[38;5;28mself\u001b[39m\u001b[38;5;241m.\u001b[39m_event_stop:  \u001b[38;5;66;03m# stop if requested\u001b[39;00m\n\u001b[1;32m   1702\u001b[0m         \u001b[38;5;28;01mreturn\u001b[39;00m\n",
      "File \u001b[0;32m~/Scalable_Backtesting_Infrastructure_for_Crypto_Trading/backtest/lib/python3.8/site-packages/backtrader/strategy.py:305\u001b[0m, in \u001b[0;36mStrategy._oncepost\u001b[0;34m(self, dt)\u001b[0m\n\u001b[1;32m    302\u001b[0m     \u001b[38;5;28mself\u001b[39m\u001b[38;5;241m.\u001b[39mforward()\n\u001b[1;32m    304\u001b[0m \u001b[38;5;28mself\u001b[39m\u001b[38;5;241m.\u001b[39mlines\u001b[38;5;241m.\u001b[39mdatetime[\u001b[38;5;241m0\u001b[39m] \u001b[38;5;241m=\u001b[39m dt\n\u001b[0;32m--> 305\u001b[0m \u001b[38;5;28;43mself\u001b[39;49m\u001b[38;5;241;43m.\u001b[39;49m\u001b[43m_notify\u001b[49m\u001b[43m(\u001b[49m\u001b[43m)\u001b[49m\n\u001b[1;32m    307\u001b[0m minperstatus \u001b[38;5;241m=\u001b[39m \u001b[38;5;28mself\u001b[39m\u001b[38;5;241m.\u001b[39m_getminperstatus()\n\u001b[1;32m    308\u001b[0m \u001b[38;5;28;01mif\u001b[39;00m minperstatus \u001b[38;5;241m<\u001b[39m \u001b[38;5;241m0\u001b[39m:\n",
      "File \u001b[0;32m~/Scalable_Backtesting_Infrastructure_for_Crypto_Trading/backtest/lib/python3.8/site-packages/backtrader/strategy.py:596\u001b[0m, in \u001b[0;36mStrategy._notify\u001b[0;34m(self, qorders, qtrades)\u001b[0m\n\u001b[1;32m    593\u001b[0m         analyzer\u001b[38;5;241m.\u001b[39m_notify_order(order)\n\u001b[1;32m    595\u001b[0m \u001b[38;5;28;01mfor\u001b[39;00m trade \u001b[38;5;129;01min\u001b[39;00m proctrades:\n\u001b[0;32m--> 596\u001b[0m     \u001b[38;5;28;43mself\u001b[39;49m\u001b[38;5;241;43m.\u001b[39;49m\u001b[43mnotify_trade\u001b[49m\u001b[43m(\u001b[49m\u001b[43mtrade\u001b[49m\u001b[43m)\u001b[49m\n\u001b[1;32m    597\u001b[0m     \u001b[38;5;28;01mfor\u001b[39;00m analyzer \u001b[38;5;129;01min\u001b[39;00m itertools\u001b[38;5;241m.\u001b[39mchain(\u001b[38;5;28mself\u001b[39m\u001b[38;5;241m.\u001b[39manalyzers,\n\u001b[1;32m    598\u001b[0m                                     \u001b[38;5;28mself\u001b[39m\u001b[38;5;241m.\u001b[39m_slave_analyzers):\n\u001b[1;32m    599\u001b[0m         analyzer\u001b[38;5;241m.\u001b[39m_notify_trade(trade)\n",
      "Cell \u001b[0;32mIn[13], line 50\u001b[0m, in \u001b[0;36mSMAStrategy.notify_trade\u001b[0;34m(self, trade)\u001b[0m\n\u001b[1;32m     42\u001b[0m \u001b[38;5;28;01mif\u001b[39;00m \u001b[38;5;129;01mnot\u001b[39;00m trade\u001b[38;5;241m.\u001b[39misclosed:\n\u001b[1;32m     43\u001b[0m     \u001b[38;5;28;01mreturn\u001b[39;00m\n\u001b[1;32m     45\u001b[0m \u001b[38;5;28mself\u001b[39m\u001b[38;5;241m.\u001b[39mtrade_metrics\u001b[38;5;241m.\u001b[39mappend({\n\u001b[1;32m     46\u001b[0m     \u001b[38;5;124m'\u001b[39m\u001b[38;5;124mPeriod\u001b[39m\u001b[38;5;124m'\u001b[39m: \u001b[38;5;28mself\u001b[39m\u001b[38;5;241m.\u001b[39mparams\u001b[38;5;241m.\u001b[39mperiod,\n\u001b[1;32m     47\u001b[0m     \u001b[38;5;124m'\u001b[39m\u001b[38;5;124mGross Profit\u001b[39m\u001b[38;5;124m'\u001b[39m: trade\u001b[38;5;241m.\u001b[39mpnl,\n\u001b[1;32m     48\u001b[0m     \u001b[38;5;124m'\u001b[39m\u001b[38;5;124mNet Profit\u001b[39m\u001b[38;5;124m'\u001b[39m: trade\u001b[38;5;241m.\u001b[39mpnlcomm,\n\u001b[1;32m     49\u001b[0m     \u001b[38;5;124m'\u001b[39m\u001b[38;5;124mNumber of Trades\u001b[39m\u001b[38;5;124m'\u001b[39m: \u001b[38;5;28mlen\u001b[39m(\u001b[38;5;28mself\u001b[39m),\n\u001b[0;32m---> 50\u001b[0m     \u001b[38;5;124m'\u001b[39m\u001b[38;5;124mWinning Trades\u001b[39m\u001b[38;5;124m'\u001b[39m: \u001b[38;5;28mlen\u001b[39m([t \u001b[38;5;28;01mfor\u001b[39;00m t \u001b[38;5;129;01min\u001b[39;00m \u001b[38;5;28mself\u001b[39m\u001b[38;5;241m.\u001b[39m_trades \u001b[38;5;28;01mif\u001b[39;00m t\u001b[38;5;241m.\u001b[39mpnl \u001b[38;5;241m>\u001b[39m \u001b[38;5;241m0\u001b[39m]),\n\u001b[1;32m     51\u001b[0m     \u001b[38;5;124m'\u001b[39m\u001b[38;5;124mLosing Trades\u001b[39m\u001b[38;5;124m'\u001b[39m: \u001b[38;5;28mlen\u001b[39m([t \u001b[38;5;28;01mfor\u001b[39;00m t \u001b[38;5;129;01min\u001b[39;00m \u001b[38;5;28mself\u001b[39m\u001b[38;5;241m.\u001b[39m_trades \u001b[38;5;28;01mif\u001b[39;00m t\u001b[38;5;241m.\u001b[39mpnl \u001b[38;5;241m<\u001b[39m\u001b[38;5;241m=\u001b[39m \u001b[38;5;241m0\u001b[39m]),\n\u001b[1;32m     52\u001b[0m     \u001b[38;5;124m'\u001b[39m\u001b[38;5;124mMax Drawdown\u001b[39m\u001b[38;5;124m'\u001b[39m: \u001b[38;5;28mself\u001b[39m\u001b[38;5;241m.\u001b[39mbroker\u001b[38;5;241m.\u001b[39mget_value() \u001b[38;5;241m-\u001b[39m \u001b[38;5;28mself\u001b[39m\u001b[38;5;241m.\u001b[39mbroker\u001b[38;5;241m.\u001b[39mget_cash(),\n\u001b[1;32m     53\u001b[0m     \u001b[38;5;124m'\u001b[39m\u001b[38;5;124mSharpe Ratio\u001b[39m\u001b[38;5;124m'\u001b[39m: \u001b[38;5;28mself\u001b[39m\u001b[38;5;241m.\u001b[39mcalculate_sharpe_ratio()\n\u001b[1;32m     54\u001b[0m })\n",
      "Cell \u001b[0;32mIn[13], line 50\u001b[0m, in \u001b[0;36m<listcomp>\u001b[0;34m(.0)\u001b[0m\n\u001b[1;32m     42\u001b[0m \u001b[38;5;28;01mif\u001b[39;00m \u001b[38;5;129;01mnot\u001b[39;00m trade\u001b[38;5;241m.\u001b[39misclosed:\n\u001b[1;32m     43\u001b[0m     \u001b[38;5;28;01mreturn\u001b[39;00m\n\u001b[1;32m     45\u001b[0m \u001b[38;5;28mself\u001b[39m\u001b[38;5;241m.\u001b[39mtrade_metrics\u001b[38;5;241m.\u001b[39mappend({\n\u001b[1;32m     46\u001b[0m     \u001b[38;5;124m'\u001b[39m\u001b[38;5;124mPeriod\u001b[39m\u001b[38;5;124m'\u001b[39m: \u001b[38;5;28mself\u001b[39m\u001b[38;5;241m.\u001b[39mparams\u001b[38;5;241m.\u001b[39mperiod,\n\u001b[1;32m     47\u001b[0m     \u001b[38;5;124m'\u001b[39m\u001b[38;5;124mGross Profit\u001b[39m\u001b[38;5;124m'\u001b[39m: trade\u001b[38;5;241m.\u001b[39mpnl,\n\u001b[1;32m     48\u001b[0m     \u001b[38;5;124m'\u001b[39m\u001b[38;5;124mNet Profit\u001b[39m\u001b[38;5;124m'\u001b[39m: trade\u001b[38;5;241m.\u001b[39mpnlcomm,\n\u001b[1;32m     49\u001b[0m     \u001b[38;5;124m'\u001b[39m\u001b[38;5;124mNumber of Trades\u001b[39m\u001b[38;5;124m'\u001b[39m: \u001b[38;5;28mlen\u001b[39m(\u001b[38;5;28mself\u001b[39m),\n\u001b[0;32m---> 50\u001b[0m     \u001b[38;5;124m'\u001b[39m\u001b[38;5;124mWinning Trades\u001b[39m\u001b[38;5;124m'\u001b[39m: \u001b[38;5;28mlen\u001b[39m([t \u001b[38;5;28;01mfor\u001b[39;00m t \u001b[38;5;129;01min\u001b[39;00m \u001b[38;5;28mself\u001b[39m\u001b[38;5;241m.\u001b[39m_trades \u001b[38;5;28;01mif\u001b[39;00m \u001b[43mt\u001b[49m\u001b[38;5;241;43m.\u001b[39;49m\u001b[43mpnl\u001b[49m \u001b[38;5;241m>\u001b[39m \u001b[38;5;241m0\u001b[39m]),\n\u001b[1;32m     51\u001b[0m     \u001b[38;5;124m'\u001b[39m\u001b[38;5;124mLosing Trades\u001b[39m\u001b[38;5;124m'\u001b[39m: \u001b[38;5;28mlen\u001b[39m([t \u001b[38;5;28;01mfor\u001b[39;00m t \u001b[38;5;129;01min\u001b[39;00m \u001b[38;5;28mself\u001b[39m\u001b[38;5;241m.\u001b[39m_trades \u001b[38;5;28;01mif\u001b[39;00m t\u001b[38;5;241m.\u001b[39mpnl \u001b[38;5;241m<\u001b[39m\u001b[38;5;241m=\u001b[39m \u001b[38;5;241m0\u001b[39m]),\n\u001b[1;32m     52\u001b[0m     \u001b[38;5;124m'\u001b[39m\u001b[38;5;124mMax Drawdown\u001b[39m\u001b[38;5;124m'\u001b[39m: \u001b[38;5;28mself\u001b[39m\u001b[38;5;241m.\u001b[39mbroker\u001b[38;5;241m.\u001b[39mget_value() \u001b[38;5;241m-\u001b[39m \u001b[38;5;28mself\u001b[39m\u001b[38;5;241m.\u001b[39mbroker\u001b[38;5;241m.\u001b[39mget_cash(),\n\u001b[1;32m     53\u001b[0m     \u001b[38;5;124m'\u001b[39m\u001b[38;5;124mSharpe Ratio\u001b[39m\u001b[38;5;124m'\u001b[39m: \u001b[38;5;28mself\u001b[39m\u001b[38;5;241m.\u001b[39mcalculate_sharpe_ratio()\n\u001b[1;32m     54\u001b[0m })\n",
      "File \u001b[0;32m~/Scalable_Backtesting_Infrastructure_for_Crypto_Trading/backtest/lib/python3.8/site-packages/backtrader/lineseries.py:461\u001b[0m, in \u001b[0;36mLineSeries.__getattr__\u001b[0;34m(self, name)\u001b[0m\n\u001b[1;32m    457\u001b[0m \u001b[38;5;28;01mdef\u001b[39;00m \u001b[38;5;21m__getattr__\u001b[39m(\u001b[38;5;28mself\u001b[39m, name):\n\u001b[1;32m    458\u001b[0m     \u001b[38;5;66;03m# to refer to line by name directly if the attribute was not found\u001b[39;00m\n\u001b[1;32m    459\u001b[0m     \u001b[38;5;66;03m# in this object if we set an attribute in this object it will be\u001b[39;00m\n\u001b[1;32m    460\u001b[0m     \u001b[38;5;66;03m# found before we end up here\u001b[39;00m\n\u001b[0;32m--> 461\u001b[0m     \u001b[38;5;28;01mreturn\u001b[39;00m \u001b[38;5;28;43mgetattr\u001b[39;49m\u001b[43m(\u001b[49m\u001b[38;5;28;43mself\u001b[39;49m\u001b[38;5;241;43m.\u001b[39;49m\u001b[43mlines\u001b[49m\u001b[43m,\u001b[49m\u001b[43m \u001b[49m\u001b[43mname\u001b[49m\u001b[43m)\u001b[49m\n",
      "\u001b[0;31mAttributeError\u001b[0m: 'Lines_LineSeries_DataSeries_OHLC_OHLCDateTime_Abst' object has no attribute 'pnl'"
     ]
    }
   ],
   "source": [
    "metrics = run_backtest({\"indicator_name\": \"SMA\", \"period\": 20}, df)\n",
    "print(metrics)"
   ]
  },
  {
   "cell_type": "code",
   "execution_count": 1,
   "metadata": {},
   "outputs": [
    {
     "name": "stdout",
     "output_type": "stream",
     "text": [
      "c:\\Users\\user\\Downloads\\ten_academy\\week9\\Scalable_Backtesting_Infrastructure_for_Crypto_Trading\\notebooks\n"
     ]
    }
   ],
   "source": [
    "import os\n",
    "\n",
    "print(os.getcwd())\n",
    "os.chdir('..')"
   ]
  },
  {
   "cell_type": "code",
   "execution_count": 5,
   "metadata": {},
   "outputs": [
    {
     "name": "stdout",
     "output_type": "stream",
     "text": [
      "The project root is:  c:\\Users\\user\\Downloads\\ten_academy\\week9\\Scalable_Backtesting_Infrastructure_for_Crypto_Trading\n"
     ]
    }
   ],
   "source": [
    "import yfinance as yf\n",
    "import backtrader as bt\n",
    "import os, sys\n",
    "# from util.user_input import get_user_input\n",
    "# Assuming this script is two levels deep in the project directory\n",
    "# project_root = os.path.abspath(os.path.join(os.path.dirname(__file__), '../../'))\n",
    "# if project_root not in sys.path:\n",
    "    # sys.path.append(project_root)\n",
    "\n",
    "print(\"The project root is: \", os.getcwd())\n",
    "\n",
    "from scripts.backtesting.analyzers.metrics_analyzer import MetricsAnalyzer\n",
    "import scripts.backtesting.strategies as strategies\n",
    "\n",
    "def run_backtest(config):\n",
    "    initial_cash = 500\n",
    "    start_date = config['start_date']\n",
    "    end_date = config['end_date']\n",
    "    ticker = config['stock_symbol']\n",
    "    indicator = config['indicator_symbol']\n",
    "\n",
    "    # Fetch historical data\n",
    "    try:\n",
    "        data = yf.download(ticker, start=start_date, end=end_date)\n",
    "        data_feed = bt.feeds.PandasData(dataname=data)\n",
    "    except Exception as e:\n",
    "        print(f\"Error fetching data: {e}\")\n",
    "        return\n",
    "\n",
    "    # Initialize Cerebro engine\n",
    "    cerebro = bt.Cerebro()\n",
    "    cerebro.adddata(data_feed)\n",
    "    cerebro.broker.setcash(initial_cash)\n",
    "\n",
    "    # Add strategy based on selected indicator\n",
    "    if indicator == 'SMA':\n",
    "        from strategies.sma_strategy import SMAStrategy\n",
    "        cerebro.addstrategy(SMAStrategy)\n",
    "    elif indicator == 'LSTM':\n",
    "        from strategies.lstm_strategy import LSTMStrategy\n",
    "        cerebro.addstrategy(LSTMStrategy)\n",
    "    elif indicator == 'MACD':\n",
    "        from strategies.macd_strategy import MACDStrategy\n",
    "        cerebro.addstrategy(MACDStrategy)\n",
    "    elif indicator == 'RSI':\n",
    "        from strategies.rsi_strategy import RSIStrategy\n",
    "        cerebro.addstrategy(RSIStrategy)\n",
    "    elif indicator == 'BB':\n",
    "        from strategies.bollinger_bands_strategy import BollingerBandsStrategy\n",
    "        cerebro.addstrategy(BollingerBandsStrategy)\n",
    "    else:\n",
    "        print(\"Invalid indicator selected.\")\n",
    "        yield \"Invalid indicator selected.\"\n",
    "\n",
    "    # Add analyzers\n",
    "    cerebro.addanalyzer(bt.analyzers.SharpeRatio, riskfreerate=0.0, annualized=True)\n",
    "    cerebro.addanalyzer(MetricsAnalyzer)\n",
    "\n",
    "    # Run backtest\n",
    "    results = cerebro.run()\n",
    "    strat = results[0]\n",
    "\n",
    "    # Print results\n",
    "    print(f\"Initial Cash: {initial_cash}\")\n",
    "    print(f\"Final Value: {cerebro.broker.getvalue()}\")\n",
    "    print(f\"Sharpe Ratio: {strat.analyzers.sharperatio.get_analysis()}\")\n",
    "\n",
    "    metrics_analyzer = strat.analyzers.getbyname('MetricsAnalyzer')\n",
    "    metrics = metrics_analyzer.get_analysis()\n",
    "    print(f\"Return: {metrics['return']}\")\n",
    "    print(f\"Total Trades: {metrics['trades']}\")\n",
    "    print(f\"Winning Trades: {metrics['winning_trades']}\")\n",
    "    print(f\"Losing Trades: {metrics['losing_trades']}\")\n",
    "\n",
    "    return {\n",
    "        'initial_cash': initial_cash,\n",
    "        'final_value': cerebro.broker.getvalue(),\n",
    "        'sharpe_ratio': strat.analyzers.sharperatio.get_analysis(),\n",
    "        'return': metrics['return'],\n",
    "        'total_trades': metrics['trades'],\n",
    "        'winning_trades': metrics['winning_trades'],\n",
    "        'losing_trades': metrics['losing_trades']\n",
    "    }"
   ]
  },
  {
   "cell_type": "code",
   "execution_count": 7,
   "metadata": {},
   "outputs": [
    {
     "data": {
      "text/plain": [
       "<generator object run_backtest at 0x0000020846C944A0>"
      ]
     },
     "execution_count": 7,
     "metadata": {},
     "output_type": "execute_result"
    }
   ],
   "source": [
    "config = {\n",
    "    'start_date': '2020-01-01',\n",
    "    'end_date': '2021-01-01',\n",
    "    'stock_symbol': 'NVDA',\n",
    "    'indicator_symbol': 'SMA'\n",
    "}\n",
    "run_backtest(config)"
   ]
  }
 ],
 "metadata": {
  "kernelspec": {
   "display_name": "backtest",
   "language": "python",
   "name": "python3"
  },
  "language_info": {
   "codemirror_mode": {
    "name": "ipython",
    "version": 3
   },
   "file_extension": ".py",
   "mimetype": "text/x-python",
   "name": "python",
   "nbconvert_exporter": "python",
   "pygments_lexer": "ipython3",
   "version": "3.10.0"
  }
 },
 "nbformat": 4,
 "nbformat_minor": 2
}
