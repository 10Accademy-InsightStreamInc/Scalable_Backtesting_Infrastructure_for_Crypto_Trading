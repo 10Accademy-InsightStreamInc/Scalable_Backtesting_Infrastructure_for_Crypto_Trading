{
 "cells": [
  {
   "cell_type": "code",
   "execution_count": null,
   "metadata": {},
   "outputs": [],
   "source": [
    "import datetime\n",
    "# import pandas_ta as ta\n",
    "import pandas as pd\n",
    "\n",
    "from backtesting import Backtest\n",
    "from backtesting import Strategy\n",
    "from backtesting.lib import crossover\n",
    "from backtesting.test import GOOG"
   ]
  },
  {
   "cell_type": "code",
   "execution_count": null,
   "metadata": {},
   "outputs": [],
   "source": [
    "import datetime\n",
    "import pandas_ta as ta\n",
    "import pandas as pd\n",
    "\n",
    "from backtesting import Backtest\n",
    "from backtesting import Strategy\n",
    "from backtesting.lib import crossover\n",
    "from backtesting.test import GOOG\n",
    "\n",
    "class RsiOscillator(Strategy):\n",
    "\n",
    "    upper_bound = 70\n",
    "    lower_bound = 30\n",
    "    rsi_window = 14\n",
    "\n",
    "    # Do as much initial computation as possible\n",
    "    def init(self):\n",
    "        self.rsi = self.I(ta.rsi, pd.Series(self.data.Close), self.rsi_window)\n",
    "\n",
    "    # Step through bars one by one\n",
    "    # Note that multiple buys are a thing here\n",
    "    def next(self):\n",
    "        if crossover(self.rsi, self.upper_bound):\n",
    "            self.position.close()\n",
    "        elif crossover(self.lower_bound, self.rsi):\n",
    "            self.buy()\n",
    "\n",
    "bt = Backtest(GOOG, RsiOscillator, cash=10_000, commission=.002)\n",
    "stats = bt.run()\n",
    "bt.plot()\n"
   ]
  },
  {
   "cell_type": "code",
   "execution_count": null,
   "metadata": {},
   "outputs": [],
   "source": [
    "print(GOOG)"
   ]
  },
  {
   "cell_type": "code",
   "execution_count": null,
   "metadata": {},
   "outputs": [],
   "source": [
    "import pandas as pd\n",
    "\n",
    "# Load the data from the uploaded CSV file\n",
    "file_path = '../data/binance_btc_usdt_candlestick.csv'\n",
    "data = pd.read_csv(file_path)\n",
    "\n",
    "# Display the first few rows of the dataset\n",
    "data.head()\n"
   ]
  },
  {
   "cell_type": "code",
   "execution_count": null,
   "metadata": {},
   "outputs": [],
   "source": [
    "data.describe()"
   ]
  },
  {
   "cell_type": "code",
   "execution_count": null,
   "metadata": {},
   "outputs": [],
   "source": [
    "import matplotlib.pyplot as plt\n",
    "\n",
    "plt.figure(figsize=(14, 7))\n",
    "plt.plot(data['timestamp'], data['close'], label='Closing Price', color='blue')\n",
    "plt.title('BTC/USDT Closing Prices Over Time')\n",
    "plt.xlabel('Timestamp')\n",
    "#make the timestamp writing diagonal\n",
    "plt.xticks(rotation=45)\n",
    "plt.ylabel('Price')\n",
    "plt.legend()\n",
    "plt.grid(True)\n",
    "plt.show()\n"
   ]
  },
  {
   "cell_type": "code",
   "execution_count": null,
   "metadata": {},
   "outputs": [],
   "source": [
    "plt.figure(figsize=(14, 7))\n",
    "plt.plot(data['timestamp'], data['volume'], label='Trading Volume', color='orange')\n",
    "plt.title('BTC/USDT Trading Volume Over Time')\n",
    "plt.xlabel('Timestamp')\n",
    "plt.ylabel('Volume')\n",
    "plt.xticks(rotation=45)\n",
    "plt.legend()\n",
    "plt.grid(True)\n",
    "plt.show()\n"
   ]
  },
  {
   "cell_type": "code",
   "execution_count": null,
   "metadata": {},
   "outputs": [],
   "source": [
    "data['20_day_MA'] = data['close'].rolling(window=20).mean()\n",
    "data['50_day_MA'] = data['close'].rolling(window=50).mean()\n",
    "data['15_day_MA'] = data['close'].rolling(window=15).mean()"
   ]
  },
  {
   "cell_type": "code",
   "execution_count": null,
   "metadata": {},
   "outputs": [],
   "source": [
    "# Plot Moving Averages\n",
    "plt.figure(figsize=(14, 7))\n",
    "plt.plot(data['timestamp'], data['close'], label='Closing Price', color='blue')\n",
    "plt.plot(data['timestamp'], data['20_day_MA'], label='20-Day MA', color='orange')\n",
    "plt.plot(data['timestamp'], data['50_day_MA'], label='50-Day MA', color='green')\n",
    "plt.plot(data['timestamp'], data['15_day_MA'], label='15-Day MA', color='red')\n",
    "plt.title('BTC/USDT Moving Averages')\n",
    "plt.xlabel('Timestamp')\n",
    "plt.xticks(rotation=45)\n",
    "plt.ylabel('Price')\n",
    "plt.legend()\n",
    "plt.grid(True)\n",
    "plt.show()\n"
   ]
  },
  {
   "cell_type": "code",
   "execution_count": null,
   "metadata": {},
   "outputs": [],
   "source": [
    "data['Buy_Signal'] = (data['20_day_MA'] > data['15_day_MA']) & (data['20_day_MA'].shift(1) <= data['15_day_MA'].shift(1))\n",
    "data['Sell_Signal'] = (data['20_day_MA'] < data['15_day_MA']) & (data['20_day_MA'].shift(1) >= data['15_day_MA'].shift(1))\n",
    "\n",
    "# Plot Buy/Sell Signals\n",
    "plt.figure(figsize=(14, 7))\n",
    "plt.plot(data['timestamp'], data['close'], label='Closing Price', color='blue')\n",
    "plt.plot(data['timestamp'], data['20_day_MA'], label='20-Day MA', color='orange')\n",
    "plt.plot(data['timestamp'], data['50_day_MA'], label='50-Day MA', color='green')\n",
    "plt.scatter(data.loc[data['Buy_Signal'], 'timestamp'], data.loc[data['Buy_Signal'], 'close'], label='Buy Signal', marker='^', color='green', s=100)\n",
    "plt.scatter(data.loc[data['Sell_Signal'], 'timestamp'], data.loc[data['Sell_Signal'], 'close'], label='Sell Signal', marker='v', color='red', s=100)\n",
    "plt.title('BTC/USDT Buy and Sell Signals')\n",
    "plt.xlabel('Timestamp')\n",
    "plt.ylabel('Price')\n",
    "plt.xticks(rotation=45)\n",
    "plt.legend()\n",
    "plt.grid(True)\n",
    "plt.show()\n"
   ]
  },
  {
   "cell_type": "code",
   "execution_count": null,
   "metadata": {},
   "outputs": [],
   "source": [
    "data.loc[data['Buy_Signal']]"
   ]
  },
  {
   "cell_type": "code",
   "execution_count": null,
   "metadata": {},
   "outputs": [],
   "source": [
    "data.loc[data['Sell_Signal']]"
   ]
  },
  {
   "cell_type": "code",
   "execution_count": null,
   "metadata": {},
   "outputs": [],
   "source": [
    "# Separate the rows with date strings and millisecond timestamps\n",
    "date_format_rows = data[~data['timestamp'].str.isnumeric()]\n",
    "ms_format_rows = data[data['timestamp'].str.isnumeric()]\n",
    "\n",
    "# Convert date strings to datetime\n",
    "date_format_rows['timestamp'] = pd.to_datetime(date_format_rows['timestamp'])\n",
    "\n",
    "# Convert millisecond timestamps to datetime\n",
    "ms_format_rows['timestamp'] = pd.to_datetime(ms_format_rows['timestamp'].astype('int64'), unit='ms')\n",
    "\n",
    "# Combine the two datasets\n",
    "cleaned_data = pd.concat([date_format_rows, ms_format_rows])\n",
    "\n",
    "# Sort the data by timestamp\n",
    "cleaned_data = cleaned_data.sort_values(by='timestamp')\n",
    "\n",
    "# Calculate 20-day and 50-day moving averages\n",
    "cleaned_data['20_day_MA'] = cleaned_data['close'].rolling(window=20).mean()\n",
    "cleaned_data['50_day_MA'] = cleaned_data['close'].rolling(window=50).mean()\n",
    "\n",
    "# Identify buy and sell signals\n",
    "cleaned_data['Buy_Signal'] = (cleaned_data['20_day_MA'] > cleaned_data['50_day_MA']) & (cleaned_data['20_day_MA'].shift(1) <= cleaned_data['50_day_MA'].shift(1))\n",
    "cleaned_data['Sell_Signal'] = (cleaned_data['20_day_MA'] < cleaned_data['50_day_MA']) & (cleaned_data['20_day_MA'].shift(1) >= cleaned_data['50_day_MA'].shift(1))\n",
    "\n",
    "# Plot Closing Prices and Moving Averages with Buy/Sell Signals\n",
    "plt.figure(figsize=(14, 7))\n",
    "plt.plot(cleaned_data['timestamp'], cleaned_data['close'], label='Closing Price', color='blue')\n",
    "plt.plot(cleaned_data['timestamp'], cleaned_data['20_day_MA'], label='20-Day MA', color='orange')\n",
    "plt.plot(cleaned_data['timestamp'], cleaned_data['50_day_MA'], label='50-Day MA', color='green')\n",
    "plt.scatter(cleaned_data.loc[cleaned_data['Buy_Signal'], 'timestamp'], cleaned_data.loc[cleaned_data['Buy_Signal'], 'close'], label='Buy Signal', marker='^', color='green', s=100)\n",
    "plt.scatter(cleaned_data.loc[cleaned_data['Sell_Signal'], 'timestamp'], cleaned_data.loc[cleaned_data['Sell_Signal'], 'close'], label='Sell Signal', marker='v', color='red', s=100)\n",
    "plt.title('BTC/USDT Closing Prices and Moving Averages with Buy/Sell Signals')\n",
    "plt.xlabel('Timestamp')\n",
    "plt.ylabel('Price')\n",
    "plt.legend()\n",
    "plt.grid(True)\n",
    "plt.show()\n",
    "\n",
    "# Plot Trading Volume\n",
    "plt.figure(figsize=(14, 7))\n",
    "plt.plot(cleaned_data['timestamp'], cleaned_data['volume'], label='Trading Volume', color='orange')\n",
    "plt.title('BTC/USDT Trading Volume Over Time')\n",
    "plt.xlabel('Timestamp')\n",
    "plt.ylabel('Volume')\n",
    "plt.legend()\n",
    "plt.grid(True)\n",
    "plt.show()\n",
    "# Display summary statistics\n",
    "summary_stats = cleaned_data.describe()\n",
    "summary_stats"
   ]
  },
  {
   "cell_type": "code",
   "execution_count": null,
   "metadata": {},
   "outputs": [],
   "source": [
    "# Initialize variables\n",
    "position = None\n",
    "buy_date = None\n",
    "buy_price = None\n",
    "\n",
    "# Iterate through the data to track buy and sell actions\n",
    "for index, row in cleaned_data.iterrows():\n",
    "    if row['Buy_Signal'] and position is None:\n",
    "        # Buy action\n",
    "        position = 'Bought'\n",
    "        buy_date = row['timestamp']\n",
    "        buy_price = row['close']\n",
    "    elif row['Sell_Signal'] and position == 'Bought':\n",
    "        # Sell action\n",
    "        position = None\n",
    "        sell_date = row['timestamp']\n",
    "        sell_price = row['close']\n",
    "        profit = sell_price - buy_price\n",
    "        trades = trades.append({'Buy Date': buy_date, 'Buy Price': buy_price, 'Sell Date': sell_date, 'Sell Price': sell_price, 'Profit': profit}, ignore_index=True)\n",
    "\n",
    "# Calculate total profit\n",
    "total_profit = trades['Profit'].sum()\n",
    "total_profit"
   ]
  },
  {
   "cell_type": "code",
   "execution_count": null,
   "metadata": {},
   "outputs": [],
   "source": [
    "# Create a DataFrame to keep track of buy and sell actions\n",
    "trades = pd.DataFrame(columns=['Buy Date', 'Buy Price', 'Sell Date', 'Sell Price', 'Profit'])\n",
    "\n",
    "# Initialize variables\n",
    "position = None\n",
    "buy_date = None\n",
    "buy_price = None\n",
    "\n",
    "# List to collect trade data\n",
    "trade_data = []\n",
    "\n",
    "# Iterate through the data to track buy and sell actions\n",
    "for index, row in cleaned_data.iterrows():\n",
    "    if row['Buy_Signal'] and position is None:\n",
    "        # Buy action\n",
    "        position = 'Bought'\n",
    "        buy_date = row['timestamp']\n",
    "        buy_price = row['close']\n",
    "    elif row['Sell_Signal'] and position == 'Bought':\n",
    "        # Sell action\n",
    "        position = None\n",
    "        sell_date = row['timestamp']\n",
    "        sell_price = row['close']\n",
    "        profit = sell_price - buy_price\n",
    "        trade_data.append({'Buy Date': buy_date, 'Buy Price': buy_price, 'Sell Date': sell_date, 'Sell Price': sell_price, 'Profit': profit})\n",
    "\n",
    "# Convert the list of trade data to a DataFrame\n",
    "trades = pd.DataFrame(trade_data)\n",
    "\n",
    "# Calculate total profit\n",
    "total_profit = trades['Profit'].sum()\n",
    "total_profit\n"
   ]
  },
  {
   "cell_type": "code",
   "execution_count": null,
   "metadata": {},
   "outputs": [],
   "source": [
    "trades"
   ]
  },
  {
   "cell_type": "code",
   "execution_count": 1,
   "metadata": {},
   "outputs": [],
   "source": [
    "from sqlalchemy import create_engine, Table, MetaData\n",
    "import os\n",
    "\n",
    "# Create engine and connect to the database\n",
    "engine = create_engine(os.getenv('PYCOPG_DATABASE_URL'))"
   ]
  },
  {
   "cell_type": "code",
   "execution_count": 2,
   "metadata": {},
   "outputs": [],
   "source": [
    "connection = engine.connect()\n",
    "metadata = MetaData()"
   ]
  },
  {
   "cell_type": "code",
   "execution_count": null,
   "metadata": {},
   "outputs": [],
   "source": [
    "# Reflect the 'scenes' table\n",
    "scenes = Table('scenes', metadata, autoload_with=engine)\n",
    "\n",
    "# Build the query\n",
    "query = scenes.select().limit(10).offset(0)\n",
    "\n",
    "# Execute the query\n",
    "result = connection.execute(query)\n",
    "for row in result:\n",
    "    print(row)"
   ]
  },
  {
   "cell_type": "code",
   "execution_count": 4,
   "metadata": {},
   "outputs": [],
   "source": [
    "from sqlalchemy import create_engine, text, inspect\n",
    "from sqlalchemy.orm import sessionmaker\n",
    "\n",
    "# Create an engine and connect to the database\n",
    "Session = sessionmaker(bind=engine)\n",
    "session = Session()\n",
    "\n"
   ]
  },
  {
   "cell_type": "code",
   "execution_count": 9,
   "metadata": {},
   "outputs": [],
   "source": [
    "\n",
    "# Execute the DROP TABLE command with CASCADE\n",
    "session.execute(text(\"DROP TABLE stocks CASCADE\"))\n",
    "session.commit()\n",
    "\n",
    "# Close the session\n",
    "session.close()"
   ]
  },
  {
   "cell_type": "code",
   "execution_count": 11,
   "metadata": {},
   "outputs": [],
   "source": [
    "# Close the session\n",
    "session.close()"
   ]
  },
  {
   "cell_type": "code",
   "execution_count": 10,
   "metadata": {},
   "outputs": [
    {
     "name": "stdout",
     "output_type": "stream",
     "text": [
      "[]\n"
     ]
    }
   ],
   "source": [
    "# Create an inspector object\n",
    "inspector = inspect(engine)\n",
    "\n",
    "# Get the list of all tables\n",
    "tables = inspector.get_table_names()\n",
    "\n",
    "# Print the list of tables\n",
    "print(tables)"
   ]
  },
  {
   "cell_type": "code",
   "execution_count": null,
   "metadata": {},
   "outputs": [],
   "source": [
    "import backtrader as bt\n",
    "import pandas as pd\n",
    "\n",
    "class SMAStrategy(bt.Strategy):\n",
    "    params = (\n",
    "        ('period', 15),\n",
    "    )\n",
    "\n",
    "    def __init__(self):\n",
    "        self.sma = bt.indicators.SimpleMovingAverage(self.data.close, period=self.params.period)\n",
    "        self.order = None\n",
    "        self.buyprice = None\n",
    "        self.buycomm = None\n",
    "        self.trade_count = 0\n",
    "        self.winning_trades = 0\n",
    "        self.losing_trades = 0\n",
    "        self.max_drawdown = 0\n",
    "\n",
    "    def next(self):\n",
    "        if self.order:\n",
    "            return\n",
    "\n",
    "        if self.sma > self.data.close:\n",
    "            self.order = self.buy()\n",
    "        elif self.sma < self.data.close:\n",
    "            self.order = self.sell()\n",
    "\n",
    "    def notify_order(self, order):\n",
    "        if order.status in [order.Submitted, order.Accepted]:\n",
    "            return\n",
    "\n",
    "        if order.status in [order.Completed]:\n",
    "            if order.isbuy():\n",
    "                self.buyprice = order.executed.price\n",
    "                self.buycomm = order.executed.comm\n",
    "            else:\n",
    "                self.sellprice = order.executed.price\n",
    "                self.sellcomm = order.executed.comm\n",
    "\n",
    "            self.bar_executed = len(self)\n",
    "\n",
    "        self.order = None\n",
    "\n",
    "    def notify_trade(self, trade):\n",
    "        if not trade.isclosed:\n",
    "            return\n",
    "\n",
    "        print(f'Operation Profit, Gross {trade.pnl}, Net {trade.pnlcomm}')\n",
    "        self.trade_count += 1\n",
    "        if trade.pnl > 0:\n",
    "            self.winning_trades += 1\n",
    "        else:\n",
    "            self.losing_trades += 1\n",
    "\n",
    "        self.max_drawdown = max(self.max_drawdown, self.broker.get_value() - self.data.close[0])\n",
    "        sharpe_ratio = self.broker.get_value() / self.broker.get_cash()\n",
    "\n",
    "        self.cerebro.metrics.append({\n",
    "            'Period': self.params.period,\n",
    "            'Gross Profit': trade.pnl,\n",
    "            'Net Profit': trade.pnlcomm,\n",
    "            'Number of Trades': self.trade_count,\n",
    "            'Winning Trades': self.winning_trades,\n",
    "            'Losing Trades': self.losing_trades,\n",
    "            'Max Drawdown': self.max_drawdown,\n",
    "            'Sharpe Ratio': sharpe_ratio\n",
    "        })\n"
   ]
  },
  {
   "cell_type": "code",
   "execution_count": null,
   "metadata": {},
   "outputs": [],
   "source": [
    "df = pd.read_csv('../data/binance_btc_usdt_candlestick.csv', index_col='timestamp', parse_dates=True)"
   ]
  },
  {
   "cell_type": "code",
   "execution_count": null,
   "metadata": {},
   "outputs": [],
   "source": [
    "def run_backtest(scene, df):\n",
    "    cerebro = bt.Cerebro()\n",
    "    data = bt.feeds.PandasData(dataname=df)\n",
    "    cerebro.adddata(data)\n",
    "\n",
    "    if scene['indicator_name'] == 'SMA':\n",
    "        cerebro.addstrategy(SMAStrategy, period=scene['period'])\n",
    "    # Add more strategies as needed\n",
    "\n",
    "    cerebro.metrics = []\n",
    "    cerebro.run()\n",
    "\n",
    "    return cerebro.metrics"
   ]
  },
  {
   "cell_type": "code",
   "execution_count": null,
   "metadata": {},
   "outputs": [],
   "source": [
    "run_backtest({\"indicator_name\": \"SMA\", \"period\": 20}, df)"
   ]
  }
 ],
 "metadata": {
  "kernelspec": {
   "display_name": "backtest",
   "language": "python",
   "name": "python3"
  },
  "language_info": {
   "codemirror_mode": {
    "name": "ipython",
    "version": 3
   },
   "file_extension": ".py",
   "mimetype": "text/x-python",
   "name": "python",
   "nbconvert_exporter": "python",
   "pygments_lexer": "ipython3",
   "version": "3.10.0"
  }
 },
 "nbformat": 4,
 "nbformat_minor": 2
}
