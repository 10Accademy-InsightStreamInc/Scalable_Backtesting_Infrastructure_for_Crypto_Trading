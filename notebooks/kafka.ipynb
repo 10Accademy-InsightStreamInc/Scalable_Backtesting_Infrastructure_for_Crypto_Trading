{
 "cells": [
  {
   "cell_type": "code",
   "execution_count": 1,
   "metadata": {},
   "outputs": [],
   "source": [
    "from kafka import KafkaProducer\n",
    "\n",
    "def produce(topic:str,message:str,bootstrap_servers=['g3.10academy.org:9092','g3.10academy.org:9092']):\n",
    "    \"\"\"\n",
    "    Produce: \n",
    "        Method\n",
    "    Accepts:\n",
    "        Topic : str -  a topic the message is produced to\n",
    "        message : str - the message wanted to produced\n",
    "        bootstrap_servers : list - list of bootstrap servers you want to connec\n",
    "\n",
    "        return nothing \n",
    "    \"\"\"\n",
    "    producer = KafkaProducer(bootstrap_servers=bootstrap_servers)\n",
    "    \n",
    "    msg = bytes(f\"{message}\", encoding='utf-8')\n",
    "    producer.send(topic, msg)\n",
    "    producer.flush()\n",
    "\n",
    "    print(\"Produced!\")"
   ]
  },
  {
   "cell_type": "code",
   "execution_count": 4,
   "metadata": {},
   "outputs": [
    {
     "name": "stdout",
     "output_type": "stream",
     "text": [
      "Produced!\n"
     ]
    }
   ],
   "source": [
    "produce(\"Abubeker\",\"hello\")"
   ]
  },
  {
   "cell_type": "code",
   "execution_count": 1,
   "metadata": {},
   "outputs": [
    {
     "name": "stdout",
     "output_type": "stream",
     "text": [
      "Topics in Kafka cluster:\n",
      "_confluent-ksql-ksqldb-server__command_topic\n",
      "scene_parameters\n",
      "backtest_results\n",
      "__consumer_offsets\n"
     ]
    }
   ],
   "source": [
    "from kafka.admin import KafkaAdminClient\n",
    "\n",
    "# Replace with your Kafka broker address\n",
    "broker = 'g3.10academy.org:9092'\n",
    "\n",
    "# Create an AdminClient\n",
    "admin_client = KafkaAdminClient(\n",
    "    bootstrap_servers=broker,\n",
    "    client_id='my_client'\n",
    ")\n",
    "\n",
    "# Get the list of topics\n",
    "topics = admin_client.list_topics()\n",
    "\n",
    "# Print the list of topics\n",
    "print(\"Topics in Kafka cluster:\")\n",
    "for topic in topics:\n",
    "    print(topic)\n",
    "    \n",
    "\n",
    "\n",
    "# Close the admin client\n",
    "admin_client.close()\n"
   ]
  },
  {
   "cell_type": "code",
   "execution_count": 1,
   "metadata": {},
   "outputs": [
    {
     "data": {
      "text/plain": [
       "'/home/abubeker_shamil/Scalable_Backtesting_Infrastructure_for_Crypto_Trading/notebooks'"
      ]
     },
     "execution_count": 1,
     "metadata": {},
     "output_type": "execute_result"
    }
   ],
   "source": [
    "import os\n",
    "os.getcwd()"
   ]
  },
  {
   "cell_type": "code",
   "execution_count": 2,
   "metadata": {},
   "outputs": [],
   "source": [
    "os.chdir('..')"
   ]
  },
  {
   "cell_type": "code",
   "execution_count": 3,
   "metadata": {},
   "outputs": [],
   "source": [
    "from kafka_topic.kafka_config import get_kafka_producer, SCENE_TOPIC, RESULT_TOPIC, get_kafka_consumer\n",
    "consumer = get_kafka_consumer(SCENE_TOPIC)"
   ]
  },
  {
   "cell_type": "code",
   "execution_count": 7,
   "metadata": {},
   "outputs": [],
   "source": [
    "consumer.close()"
   ]
  },
  {
   "cell_type": "code",
   "execution_count": 14,
   "metadata": {},
   "outputs": [],
   "source": [
    "consumer = get_kafka_consumer(RESULT_TOPIC)"
   ]
  },
  {
   "cell_type": "code",
   "execution_count": 15,
   "metadata": {},
   "outputs": [
    {
     "name": "stdout",
     "output_type": "stream",
     "text": [
      "Received scene parameters: []\n",
      "Received scene parameters: []\n",
      "Received scene parameters: []\n"
     ]
    }
   ],
   "source": [
    "for message in consumer:\n",
    "    scene_parameters = message.value\n",
    "    print(f\"Received scene parameters: {scene_parameters}\")"
   ]
  }
 ],
 "metadata": {
  "kernelspec": {
   "display_name": "backtest",
   "language": "python",
   "name": "python3"
  },
  "language_info": {
   "codemirror_mode": {
    "name": "ipython",
    "version": 3
   },
   "file_extension": ".py",
   "mimetype": "text/x-python",
   "name": "python",
   "nbconvert_exporter": "python",
   "pygments_lexer": "ipython3",
   "version": "3.8.10"
  }
 },
 "nbformat": 4,
 "nbformat_minor": 2
}
